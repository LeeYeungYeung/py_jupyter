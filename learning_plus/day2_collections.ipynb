{
 "cells": [
  {
   "cell_type": "code",
   "execution_count": 2,
   "id": "298e52c3-3303-4971-ac06-b93d3ee08ff9",
   "metadata": {
    "tags": []
   },
   "outputs": [
    {
     "data": {
      "text/plain": [
       "['art', 'opera', 'music']"
      ]
     },
     "execution_count": 2,
     "metadata": {},
     "output_type": "execute_result"
    }
   ],
   "source": [
    "import collections \n",
    "\n",
    "baseline = {'music': 'bach', 'art': 'rembrandt'}\n",
    "adjustements = {'art': 'van gogh', 'opera': 'carmen'}\n",
    "\n",
    "list(collections.ChainMap(baseline, adjustements))"
   ]
  },
  {
   "cell_type": "code",
   "execution_count": null,
   "id": "9adf8697-8aee-4ad3-b76f-2e466c8c8de5",
   "metadata": {},
   "outputs": [],
   "source": []
  }
 ],
 "metadata": {
  "kernelspec": {
   "display_name": "Python 3 (ipykernel)",
   "language": "python",
   "name": "python3"
  },
  "language_info": {
   "codemirror_mode": {
    "name": "ipython",
    "version": 3
   },
   "file_extension": ".py",
   "mimetype": "text/x-python",
   "name": "python",
   "nbconvert_exporter": "python",
   "pygments_lexer": "ipython3",
   "version": "3.10.11"
  },
  "toc-autonumbering": false,
  "toc-showcode": true,
  "toc-showmarkdowntxt": false
 },
 "nbformat": 4,
 "nbformat_minor": 5
}

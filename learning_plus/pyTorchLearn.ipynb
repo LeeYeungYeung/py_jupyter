{
 "cells": [
  {
   "cell_type": "code",
   "execution_count": 2,
   "id": "c98087ff-ec10-4baa-84a0-1dba5fa0574f",
   "metadata": {},
   "outputs": [
    {
     "name": "stdout",
     "output_type": "stream",
     "text": [
      "tensor([[0.7104, 0.3108, 0.8384],\n",
      "        [0.0649, 0.5779, 0.4866],\n",
      "        [0.4025, 0.4698, 0.8738],\n",
      "        [0.7071, 0.4375, 0.8726],\n",
      "        [0.0314, 0.2600, 0.8821]])\n"
     ]
    }
   ],
   "source": [
    "from __future__ import print_function\n",
    "import torch\n",
    "x = torch.rand(5, 3)\n",
    "print(x)"
   ]
  },
  {
   "cell_type": "code",
   "execution_count": 4,
   "id": "1a0a2d9f-2ff4-45e9-837d-ee2515b89d3c",
   "metadata": {},
   "outputs": [
    {
     "name": "stdout",
     "output_type": "stream",
     "text": [
      "tensor([[9.6429e-39, 9.2755e-39, 9.1837e-39],\n",
      "        [9.3674e-39, 1.0745e-38, 1.0653e-38],\n",
      "        [9.5510e-39, 1.0561e-38, 1.0194e-38],\n",
      "        [1.1112e-38, 1.0561e-38, 9.9184e-39],\n",
      "        [1.0653e-38, 4.1327e-39, 1.0194e-38]])\n"
     ]
    }
   ],
   "source": [
    "x = torch.empty(5, 3)\n",
    "print(x)"
   ]
  },
  {
   "cell_type": "code",
   "execution_count": 5,
   "id": "7feb31b7-2589-4732-98bd-b3da949e1bdd",
   "metadata": {},
   "outputs": [
    {
     "name": "stdout",
     "output_type": "stream",
     "text": [
      "tensor([5.5000, 3.0000])\n"
     ]
    }
   ],
   "source": [
    "tensor1 = torch.tensor([5.5, 3])\n",
    "print(tensor1)"
   ]
  },
  {
   "cell_type": "code",
   "execution_count": null,
   "id": "877e90b9-8fd4-4e33-bc22-f5ee4f1cefbe",
   "metadata": {},
   "outputs": [],
   "source": []
  }
 ],
 "metadata": {
  "kernelspec": {
   "display_name": "Python 3 (ipykernel)",
   "language": "python",
   "name": "python3"
  },
  "language_info": {
   "codemirror_mode": {
    "name": "ipython",
    "version": 3
   },
   "file_extension": ".py",
   "mimetype": "text/x-python",
   "name": "python",
   "nbconvert_exporter": "python",
   "pygments_lexer": "ipython3",
   "version": "3.9.13"
  }
 },
 "nbformat": 4,
 "nbformat_minor": 5
}

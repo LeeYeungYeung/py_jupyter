{
 "cells": [
  {
   "cell_type": "code",
   "execution_count": 2,
   "id": "802dff78-f85e-4ff6-918b-82a184ac1349",
   "metadata": {
    "editable": true,
    "slideshow": {
     "slide_type": ""
    },
    "tags": []
   },
   "outputs": [
    {
     "name": "stdout",
     "output_type": "stream",
     "text": [
      "hei,I'm leeYeung , function name is funTest\n",
      "hello world\n"
     ]
    }
   ],
   "source": [
    "def funName(text):\n",
    "    def printName(func):\n",
    "        print(f'hei,I\\'m {text} , function name is {func.__name__}')\n",
    "        return func\n",
    "    return printName\n",
    "\n",
    "@funName('leeYeung')\n",
    "def funTest():\n",
    "    print('hello world')\n",
    "    \n",
    "funTest()\n",
    "\n",
    "import functools\n",
    "\n",
    "def log(text):\n",
    "    def decorator(func):\n",
    "        @functools.wraps(func)\n",
    "        def wrapper(*args, **kw):\n",
    "            print(f'{text, func.__name__}')\n",
    "            return func(*args, **kw)\n",
    "        return wrapper\n",
    "    return decorator\n",
    "\n"
   ]
  },
  {
   "cell_type": "code",
   "execution_count": null,
   "id": "dfe5e85f-35f6-4b26-b45e-e1fe485ea9df",
   "metadata": {},
   "outputs": [],
   "source": [
    "# -*- coding: utf-8 -*-\n",
    "import time, functools\n",
    "\n",
    "def metric(func):\n",
    "    start = time.time()\n",
    "    print(start)\n",
    "    def runFun():\n",
    "        func() \n",
    "    print(time.time())\n",
    "    print(f'{func.__name__ } executed in {(time.time()-start)*1000}')\n",
    "    \n",
    "@metric\n",
    "def fast(x, y):\n",
    "    time.sleep(1)\n",
    "    return x + y\n",
    "\n",
    "print(fast(1, 2))"
   ]
  },
  {
   "cell_type": "code",
   "execution_count": 19,
   "id": "2c3afac5-ba2a-4081-90e6-665dfe749eb7",
   "metadata": {
    "scrolled": true,
    "tags": []
   },
   "outputs": [
    {
     "name": "stdout",
     "output_type": "stream",
     "text": [
      "fast executed in 0.004001617431640625 ms\n",
      "slow executed in 0.13933205604553223 ms\n"
     ]
    }
   ],
   "source": [
    "# -*- coding: utf-8 -*-\n",
    "import time, functools\n",
    "\n",
    "def metric(fn):\n",
    "    def wrapper(*args, **kw):\n",
    "        start = time.time()\n",
    "        result = fn(*args, **kw)\n",
    "        end = time.time()\n",
    "        print('%s executed in %s ms' % (fn.__name__, end - start))\n",
    "        return result\n",
    "    return wrapper\n",
    "\n",
    "# 测试\n",
    "@metric\n",
    "def fast(x, y):\n",
    "    time.sleep(0.0012)\n",
    "    return x + y;\n",
    "\n",
    "@metric\n",
    "def slow(x, y, z):\n",
    "    time.sleep(0.1234)\n",
    "    return x * y * z;\n",
    "\n",
    "f = fast(11, 22)\n",
    "s = slow(11, 22, 33)\n",
    "if f != 33:\n",
    "    print('测试失败!')\n",
    "elif s != 7986:\n",
    "    print('测试失败!')"
   ]
  },
  {
   "cell_type": "code",
   "execution_count": 4,
   "id": "d6ecb833-17c5-43f8-9dc0-91d91f761902",
   "metadata": {},
   "outputs": [
    {
     "data": {
      "text/plain": [
       "['Adam', 'Lisa', 'Bart']"
      ]
     },
     "execution_count": 4,
     "metadata": {},
     "output_type": "execute_result"
    }
   ],
   "source": [
    "from functools import reduce\n",
    "\n",
    "def normalize(name):\n",
    "    return name.capitalize()\n",
    "\n",
    "list(map(normalize,['adam', 'LISA', 'barT']))\n",
    "# 等价于\n",
    "# list(map(lambda n, n.capitalize(),['adam', 'LISA', 'barT']))\n",
    "\n"
   ]
  },
  {
   "cell_type": "code",
   "execution_count": 13,
   "id": "9fa870d9-eec5-4aea-91ff-a84e7979cf9a",
   "metadata": {
    "tags": []
   },
   "outputs": [
    {
     "name": "stdout",
     "output_type": "stream",
     "text": [
      "3 * 5 * 7 * 9 = 945\n",
      "测试成功!\n",
      "945\n",
      "<map object at 0x000002B2E8087B20>\n"
     ]
    }
   ],
   "source": [
    "def prod(L):\n",
    "    '''返回列表L的累积'''\n",
    "    # reduce(fun_el, list) 函数，将list的前两个元素执行fun_el 方法，\n",
    "    # 并且每次执行的结果作为下一次执行的参数\n",
    "    # reduce(f, [x1, x2, x3, x4]) = f(f(f(x1, x2), x3), x4)\n",
    "    return reduce(lambda x, y: x*y, L)\n",
    "\n",
    "def pord_m(l):\n",
    "    '''返回列表l 的累积'''\n",
    "    p = 1\n",
    "    \n",
    "    return map(lambda x: x * 2 , l)\n",
    "    \n",
    "print('3 * 5 * 7 * 9 =', prod([3, 5, 7, 9]))\n",
    "if prod([3, 5, 7, 9]) == 945:\n",
    "    print('测试成功!')\n",
    "else:\n",
    "    print('测试失败!')\n",
    "print(3*5*7*9)\n",
    "\n",
    "a = pord_m([3,5,7,9])"
   ]
  },
  {
   "cell_type": "code",
   "execution_count": 15,
   "id": "9eaab9c2-5cba-4dd2-971b-b2ff3c113d72",
   "metadata": {
    "tags": []
   },
   "outputs": [
    {
     "data": {
      "text/plain": [
       "['hello']"
      ]
     },
     "execution_count": 15,
     "metadata": {},
     "output_type": "execute_result"
    }
   ],
   "source": [
    "s = ' hello   '\n",
    "s.strip()\n",
    "# s = ''\n",
    "s.strip()\n",
    "\n",
    "s and s.split()"
   ]
  },
  {
   "cell_type": "code",
   "execution_count": 3,
   "id": "7d12ec4f-fd45-4e4e-975f-c62521ad805c",
   "metadata": {},
   "outputs": [
    {
     "name": "stdout",
     "output_type": "stream",
     "text": [
      "测试成功!\n",
      "o\n"
     ]
    }
   ],
   "source": [
    "# 去除字符串首尾的空格\n",
    "def trim(s):\n",
    "    while(s[:1]==' '):\n",
    "        s = s[1:]\n",
    "    while (s[-1:]==' '):\n",
    "        s = s[:-1]\n",
    "        \n",
    "    return s;\n",
    "\n",
    "# 测试:\n",
    "if trim('hello  ') != 'hello':\n",
    "    print('测试失败!')\n",
    "elif trim('  hello') != 'hello':\n",
    "    print('测试失败!')\n",
    "elif trim('  hello  ') != 'hello':\n",
    "    print('测试失败!')\n",
    "elif trim('  hello  world  ') != 'hello  world':\n",
    "    print('测试失败!')\n",
    "elif trim('') != '':\n",
    "    print('测试失败!')\n",
    "elif trim('    ') != '':\n",
    "    print('测试失败!')\n",
    "else:\n",
    "    print('测试成功!')\n",
    "    \n",
    "strs = \"hello\"\n",
    "print(strs[-1:])"
   ]
  },
  {
   "cell_type": "code",
   "execution_count": 18,
   "id": "68e6a462-0e16-45be-b7d6-e955ab2beaee",
   "metadata": {},
   "outputs": [
    {
     "name": "stdout",
     "output_type": "stream",
     "text": [
      "测试成功!\n"
     ]
    }
   ],
   "source": [
    "# 请使用迭代查找一个list中最小和最大值，并返回一个tuple：\n",
    "\n",
    "def findMinAndMax(L):\n",
    "    if(len(L)==0):\n",
    "        return (None, None)\n",
    "    maxN=L[0]\n",
    "    minN=L[0]\n",
    "    for i in L:\n",
    "        maxN = i if i > maxN else maxN\n",
    "        minN = i if i < minN else minN\n",
    "    return (minN, maxN)\n",
    "\n",
    "# test\n",
    "if findMinAndMax([]) != (None, None):\n",
    "    print('测试失败!')\n",
    "elif findMinAndMax([7]) != (7, 7):\n",
    "    print('测试失败!')\n",
    "elif findMinAndMax([7, 1]) != (1, 7):\n",
    "    print('测试失败!')\n",
    "elif findMinAndMax([7, 1, 3, 9, 5]) != (1, 9):\n",
    "    print('测试失败!')\n",
    "else:\n",
    "    print('测试成功!')\n",
    "    \n",
    "a = 2 if 2<4 else 4"
   ]
  },
  {
   "cell_type": "code",
   "execution_count": 21,
   "id": "5dc2890c-dbbb-42a6-bf7c-224783ddc1d7",
   "metadata": {
    "tags": []
   },
   "outputs": [
    {
     "data": {
      "text/plain": [
       "[0, 1, 4, 9, 16, 25, 36, 49, 64, 81]"
      ]
     },
     "execution_count": 21,
     "metadata": {},
     "output_type": "execute_result"
    }
   ],
   "source": [
    "# 列表生成器\n",
    "\n",
    "[x*x for x in range(0,10)]"
   ]
  },
  {
   "cell_type": "code",
   "execution_count": 27,
   "id": "fbbf2b09-8b82-4322-b45d-65911cdfdbad",
   "metadata": {
    "tags": []
   },
   "outputs": [
    {
     "name": "stdout",
     "output_type": "stream",
     "text": [
      "[1]\n",
      "[1, 1]\n",
      "[1, 2, 1]\n",
      "[1, 3, 3, 1]\n",
      "[1, 4, 6, 4, 1]\n",
      "[1, 5, 10, 10, 5, 1]\n",
      "[1, 6, 15, 20, 15, 6, 1]\n",
      "[1, 7, 21, 35, 35, 21, 7, 1]\n",
      "[1, 8, 28, 56, 70, 56, 28, 8, 1]\n",
      "[1, 9, 36, 84, 126, 126, 84, 36, 9, 1]\n",
      "测试通过!\n"
     ]
    }
   ],
   "source": [
    "# 关于如何捕获错误，后面的错误处理还会详细讲解。\n",
    "\n",
    "# 练习\n",
    "# 杨辉三角定义如下：\n",
    "\n",
    "#           1\n",
    "#          / \\\n",
    "#         1   1\n",
    "#        / \\ / \\\n",
    "#       1   2   1\n",
    "#      / \\ / \\ / \\\n",
    "#     1   3   3   1\n",
    "#    / \\ / \\ / \\ / \\\n",
    "#   1   4   6   4   1\n",
    "#  / \\ / \\ / \\ / \\ / \\\n",
    "# 1   5   10  10  5   1\n",
    "# 把每一行看做一个list，试写一个generator，不断输出下一行的list：\n",
    "\n",
    "\n",
    "def triangels():\n",
    "    strF = [1]\n",
    "    strC = [1,1]\n",
    "    while(True):\n",
    "        yield strF\n",
    "        strF = strC\n",
    "        strC = [1]+[strC[i] + strC[i+1] for i in range(len(strC)-1)]+[1]\n",
    "\n",
    "# 期待输出:\n",
    "# [1]\n",
    "# [1, 1]\n",
    "# [1, 2, 1]\n",
    "# [1, 3, 3, 1]\n",
    "# [1, 4, 6, 4, 1]\n",
    "# [1, 5, 10, 10, 5, 1]\n",
    "# [1, 6, 15, 20, 15, 6, 1]\n",
    "# [1, 7, 21, 35, 35, 21, 7, 1]\n",
    "# [1, 8, 28, 56, 70, 56, 28, 8, 1]\n",
    "# [1, 9, 36, 84, 126, 126, 84, 36, 9, 1]\n",
    "n = 0\n",
    "results = []\n",
    "for t in triangels():\n",
    "    results.append(t)\n",
    "    n = n + 1\n",
    "    if n == 10:\n",
    "        break\n",
    "\n",
    "for t in results:\n",
    "    print(t)\n",
    "\n",
    "if results == [\n",
    "    [1],\n",
    "    [1, 1],\n",
    "    [1, 2, 1],\n",
    "    [1, 3, 3, 1],\n",
    "    [1, 4, 6, 4, 1],\n",
    "    [1, 5, 10, 10, 5, 1],\n",
    "    [1, 6, 15, 20, 15, 6, 1],\n",
    "    [1, 7, 21, 35, 35, 21, 7, 1],\n",
    "    [1, 8, 28, 56, 70, 56, 28, 8, 1],\n",
    "    [1, 9, 36, 84, 126, 126, 84, 36, 9, 1]\n",
    "]:\n",
    "    print('测试通过!')\n",
    "else:\n",
    "    print('测试失败!')"
   ]
  },
  {
   "cell_type": "code",
   "execution_count": 2,
   "id": "027653e1-c2d9-40fa-9d02-6b2f554d1eb2",
   "metadata": {},
   "outputs": [
    {
     "name": "stdout",
     "output_type": "stream",
     "text": [
      "lee\n"
     ]
    }
   ],
   "source": [
    "class Hello():\n",
    "    def __init__(self, name):\n",
    "        self.__name = name\n",
    "\n",
    "    def set_name(self, name):\n",
    "        self.__name = name\n",
    "\n",
    "    def get_name(self):\n",
    "        return self.__name\n",
    "\n",
    "hello = Hello('lee')\n",
    "print(hello.get_name())\n",
    "hello.set_name('hello')"
   ]
  },
  {
   "cell_type": "code",
   "execution_count": 1,
   "id": "c02f137e-4856-42d4-b7e8-7b21ed5c6917",
   "metadata": {},
   "outputs": [
    {
     "ename": "IndentationError",
     "evalue": "expected an indented block after function definition on line 8 (3071148826.py, line 10)",
     "output_type": "error",
     "traceback": [
      "\u001b[0;36m  Cell \u001b[0;32mIn[1], line 10\u001b[0;36m\u001b[0m\n\u001b[0;31m    def performFly(self):\u001b[0m\n\u001b[0m    ^\u001b[0m\n\u001b[0;31mIndentationError\u001b[0m\u001b[0;31m:\u001b[0m expected an indented block after function definition on line 8\n"
     ]
    }
   ],
   "source": [
    "class FlyBehavior():\n",
    "    def fly(self):\n",
    "        pass\n",
    "        \n",
    "class Duck():\n",
    "    flyBehavior = FlyBehavior()\n",
    "    quackBehavior = QuackBehavior()\n",
    "    def __init__(self):\n",
    "\n",
    "    def performFly(self):\n",
    "        self.flyBehavior.fly()\n",
    "\n",
    "    def performQuack(self):\n",
    "        self.quackBehavior.quack()\n",
    "\n",
    "    def swim(self):\n",
    "        print('All ducks float, even decoys')\n",
    "\n",
    "class QuackBehavior():\n",
    "    def quack(self):\n",
    "        pass\n",
    "\n",
    "class FlyWithWings(FlyBehavior):\n",
    "    def fly(self):\n",
    "        print('I\\'m flying')\n",
    "\n",
    "class FlyNoWay(FlyBehavior):\n",
    "    def fly(self):\n",
    "        print('I can\\'t fly')\n",
    "\n",
    "class Quack(QuackBehavior):\n",
    "    def quack(self):\n",
    "        print('Quack')\n",
    "\n",
    "class MuteQuack(QuackBehavior):\n",
    "    def quack(self):\n",
    "        print('<< Silence >>')\n",
    "\n",
    "class Squeak(QuackBehavior):\n",
    "    def quack(self):\n",
    "        print('Squeck')\n",
    "\n",
    "class MallardDuck(Duck):\n",
    "    def __init__(self):\n",
    "        quackBehavior = Quack()\n",
    "        flyBehavior = FlyWithwings()\n",
    "    def desplay():\n",
    "        print('I\\'m a real Mallard duck')\n",
    "        \n",
    "if __name__ == 'main':\n",
    "    mallard = MallardDuck()\n",
    "    mallard.performQuack()\n",
    "    mallard.performFly()\n",
    "    "
   ]
  },
  {
   "cell_type": "code",
   "execution_count": 3,
   "id": "c1b57938-778b-4496-8c3d-842cdf61daa1",
   "metadata": {},
   "outputs": [
    {
     "name": "stdout",
     "output_type": "stream",
     "text": [
      "Michael\n",
      "99\n",
      "2\n"
     ]
    }
   ],
   "source": [
    "class Student(object):\n",
    "\n",
    "    def __init__(self):\n",
    "        self.name = 'Michael'\n",
    "\n",
    "    def __getattr__(self, attr):\n",
    "        if attr == 'scre':\n",
    "            return 99\n",
    "s = Student()\n",
    "print(s.name)\n",
    "print(s.scre)\n",
    "s.hello=2\n",
    "print(s.hello)"
   ]
  },
  {
   "cell_type": "code",
   "execution_count": 41,
   "id": "ffc88f77-8786-40c3-9cbe-fa9fec0e8862",
   "metadata": {},
   "outputs": [
    {
     "name": "stdout",
     "output_type": "stream",
     "text": [
      "hello2\n"
     ]
    }
   ],
   "source": [
    "from types import MethodType\n",
    "class ClassTest():\n",
    "    pass\n",
    "    \n",
    "def set_name(self, name):\n",
    "    self.name = name\n",
    "        \n",
    "# ClassTest.set_name = MethodType(set_name, s)\n",
    "ClassTest.set_name=set_name\n",
    "s = ClassTest()\n",
    "s.set_name(\"hello2\")\n",
    "b = ClassTest()\n",
    "b.set_name(\"lee\") \n",
    "c = ClassTest()\n",
    "c.set_name(\"hello\")\n",
    "print(s.name)"
   ]
  },
  {
   "cell_type": "code",
   "execution_count": 3,
   "id": "69194bd6-fc65-47ff-b20f-55d93d905cba",
   "metadata": {},
   "outputs": [
    {
     "name": "stdout",
     "output_type": "stream",
     "text": [
      "True\n",
      "1 2 3 4 "
     ]
    }
   ],
   "source": [
    "def myAtoi(s: str) -> int :\n",
    "\n",
    "    strS = {'1':1,'2':2, '3':3, '4':4,'5':5,\n",
    "            '6':6,'7':7, '8':8, '9':9,'0':0}\n",
    "    TF = {'+', '-'}\n",
    "    # for k, v in strS.items():\n",
    "    value = 0\n",
    "    \n",
    "    goNext = 0 # 是否读取下一个变量 0搜索，1 -1连续 -2 退出\n",
    "    isFirst = True #是否是首次出现范围内字符\n",
    "    # for s_k in s:\n",
    "    #     if(goNext == -2):\n",
    "    #         break\n",
    "        \n",
    "    #     if(goNext != -2 and (strS.has_key(s_k) or TF.has_key(s_k))):\n",
    "    #         if(s_k=='-'):\n",
    "    #             goNext = -1\n",
    "    #         else:\n",
    "    #             goNext = 1            \n",
    "    #     elif(goNext == -1 or goNext == 1):\n",
    "    #         if(strS.has_key(s_k)):\n",
    "    #             value = value*10+strS[s_k]\n",
    "    #         else:\n",
    "    #             value = value*goNext\n",
    "    #             goNext = -2\n",
    "            \n",
    "    print('1' in strS)\n",
    "    return value\n",
    "s = '1234'\n",
    "myAtoi(s)\n",
    "strS = {'1':1,'2':2, '3':3, '4':4,'5':5,\n",
    "            '6':6,'7':7, '8':8, '9':9,'0':0}\n",
    "for i in s :\n",
    "    print(strS[f'{i}'], end=' ')\n"
   ]
  },
  {
   "cell_type": "code",
   "execution_count": null,
   "id": "0be4478d-ae4b-4510-8af1-c737fcdf4981",
   "metadata": {},
   "outputs": [],
   "source": []
  }
 ],
 "metadata": {
  "kernelspec": {
   "display_name": "Python 3 (ipykernel)",
   "language": "python",
   "name": "python3"
  },
  "language_info": {
   "codemirror_mode": {
    "name": "ipython",
    "version": 3
   },
   "file_extension": ".py",
   "mimetype": "text/x-python",
   "name": "python",
   "nbconvert_exporter": "python",
   "pygments_lexer": "ipython3",
   "version": "3.10.9"
  }
 },
 "nbformat": 4,
 "nbformat_minor": 5
}

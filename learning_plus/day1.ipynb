{
 "cells": [
  {
   "cell_type": "markdown",
   "id": "c33add5f-db7e-462e-a885-8b4e389db8a4",
   "metadata": {},
   "source": [
    "'/'：位置参数,必须更具参数位置进行传参\n",
    "'*': 关键字参数，必须以键值对格式进行传参"
   ]
  },
  {
   "cell_type": "code",
   "execution_count": 13,
   "id": "d479260a-7290-4569-ade3-6b7dc4470050",
   "metadata": {
    "tags": []
   },
   "outputs": [
    {
     "name": "stdout",
     "output_type": "stream",
     "text": [
      "lee lee\n"
     ]
    }
   ],
   "source": [
    "\n",
    "def hello(name,/,*,l_name,):\n",
    "    print(name, l_name)\n",
    "hello('lee',l_name='lee')\n"
   ]
  },
  {
   "cell_type": "code",
   "execution_count": 14,
   "id": "d939f7c5-9c27-4965-9911-bdf1ac9e670a",
   "metadata": {},
   "outputs": [
    {
     "name": "stdout",
     "output_type": "stream",
     "text": [
      "False\n"
     ]
    }
   ],
   "source": [
    "\n",
    "def foo(name, **kwds):\n",
    "    return 'name' in kwds\n",
    "# print(foo('lee1', **{'lee1': 'lee'}))\n",
    "print(foo('lee1',**{'lee1': 'lee'}))\n"
   ]
  },
  {
   "cell_type": "code",
   "execution_count": 15,
   "id": "58a8d6b0-5adf-4030-9765-8dd9c24a03f8",
   "metadata": {
    "tags": []
   },
   "outputs": [
    {
     "name": "stdout",
     "output_type": "stream",
     "text": [
      "1/ 2/ 3/ 4/ "
     ]
    }
   ],
   "source": [
    "def concat(*a, sep):\n",
    "    for i in a :\n",
    "        print(i + sep, end=' ')\n",
    "    \n",
    "concat('1','2','3','4',sep='/')"
   ]
  },
  {
   "cell_type": "code",
   "execution_count": 16,
   "id": "ff754be1-3c54-48eb-aed4-e3aa83d57ecf",
   "metadata": {
    "tags": []
   },
   "outputs": [
    {
     "name": "stdout",
     "output_type": "stream",
     "text": [
      "[0, 1, 2, 3, 4, 5, 6, 7, 8, 9]\n"
     ]
    }
   ],
   "source": [
    "\n",
    "a = [i for i in range(0, 10)]\n",
    "print(a)\n"
   ]
  },
  {
   "cell_type": "code",
   "execution_count": 17,
   "id": "54a24e0b-9a1b-431d-ab00-7fa0eef25fa7",
   "metadata": {},
   "outputs": [
    {
     "name": "stdout",
     "output_type": "stream",
     "text": [
      "0 1 1 2 3 5 8 13 21 34 55 89 \n"
     ]
    }
   ],
   "source": [
    "import fibo\n",
    "\n",
    "fibo.fib(100)"
   ]
  },
  {
   "cell_type": "code",
   "execution_count": 18,
   "id": "fcee6fc6-0d4d-428c-8dca-b11fe4e8a719",
   "metadata": {},
   "outputs": [
    {
     "name": "stdout",
     "output_type": "stream",
     "text": [
      "[0, 1, 1, 2, 3, 5, 8, 13, 21]\n"
     ]
    }
   ],
   "source": [
    "print(f'{fibo.fib2(30)}')"
   ]
  },
  {
   "cell_type": "code",
   "execution_count": 19,
   "id": "d86e1e7a-8759-4a28-87c9-94e087a36607",
   "metadata": {
    "tags": []
   },
   "outputs": [
    {
     "name": "stdout",
     "output_type": "stream",
     "text": [
      "a='lee', b='hello', c='lihua'\n"
     ]
    }
   ],
   "source": [
    "a='lee'\n",
    "b = 'hello'\n",
    "c = 'lihua'\n",
    "print(f'{a=}, {b=}, {c=}')"
   ]
  },
  {
   "cell_type": "code",
   "execution_count": 20,
   "id": "1767881e-c979-476b-af03-5a96f47e4b30",
   "metadata": {},
   "outputs": [
    {
     "data": {
      "text/plain": [
       "'[1, \"simple\", \"list\"]'"
      ]
     },
     "execution_count": 20,
     "metadata": {},
     "output_type": "execute_result"
    }
   ],
   "source": [
    "import json\n",
    "x = [1,'simple', 'list']\n",
    "json.dumps(x)"
   ]
  },
  {
   "cell_type": "code",
   "execution_count": 21,
   "id": "4b5c9a0c-27d2-46f7-aefd-ca1011b6d8fb",
   "metadata": {
    "tags": []
   },
   "outputs": [
    {
     "name": "stdout",
     "output_type": "stream",
     "text": [
      "<class 'ValueError'>\n"
     ]
    }
   ],
   "source": [
    "try:\n",
    "    raise ValueError('hello')\n",
    "except Exception as inst:\n",
    "    print(type(inst))\n",
    "    \n",
    "    "
   ]
  },
  {
   "cell_type": "code",
   "execution_count": 22,
   "id": "983856bd-3dda-4c2c-a65b-1681c00ef48d",
   "metadata": {
    "tags": []
   },
   "outputs": [
    {
     "name": "stdout",
     "output_type": "stream",
     "text": [
      "could not convert data to an integer.\n"
     ]
    }
   ],
   "source": [
    "import sys\n",
    "\n",
    "try:\n",
    "    f = open('myfile.txt')\n",
    "    s = f.readline()\n",
    "    i = int(s.strip())\n",
    "except OSError as err:\n",
    "    print('OS error:', err)\n",
    "except ValueError:\n",
    "    print('could not convert data to an integer.')\n",
    "except Exception as err:\n",
    "    print(f'Unexpected {err=}, {type(err)=}')\n",
    "    raise"
   ]
  },
  {
   "cell_type": "code",
   "execution_count": 23,
   "id": "bb41b5ff-abdc-4922-91f8-f8da444f7c43",
   "metadata": {
    "tags": []
   },
   "outputs": [
    {
     "name": "stdout",
     "output_type": "stream",
     "text": [
      "1 2\n"
     ]
    }
   ],
   "source": [
    "a = 1\n",
    "b = 2\n",
    "print(a, b)"
   ]
  },
  {
   "cell_type": "code",
   "execution_count": 47,
   "id": "bf2df19e-9473-4c4e-8ff4-8dad5a8c7c6f",
   "metadata": {
    "tags": []
   },
   "outputs": [],
   "source": [
    "try:\n",
    "    f = open(\"myfile.txt\")\n",
    "except OSError:\n",
    "    raise RuntimeError('unable to handle error')\n",
    "f.close()\n",
    "                       "
   ]
  },
  {
   "cell_type": "code",
   "execution_count": 25,
   "id": "0f51ba09-1c98-4a32-9c2f-a94988b9aef5",
   "metadata": {
    "tags": []
   },
   "outputs": [
    {
     "data": {
      "text/plain": [
       "'hello first docs'"
      ]
     },
     "execution_count": 25,
     "metadata": {},
     "output_type": "execute_result"
    }
   ],
   "source": [
    "class MyClass:\n",
    "    \"\"\"hello first docs\"\"\"\n",
    "    a = 123\n",
    "    def f(self):\n",
    "        return \"hello world\"\n",
    "\n",
    "mclass = MyClass()\n",
    "mclass.f()\n",
    "mclass.__doc__"
   ]
  },
  {
   "cell_type": "code",
   "execution_count": 26,
   "id": "610eb219-dc87-4057-bcda-e95dfc0a0d29",
   "metadata": {
    "tags": []
   },
   "outputs": [
    {
     "name": "stdout",
     "output_type": "stream",
     "text": [
      "cat1,动物叫\n",
      "小猫cat2, 12, 喵喵叫\n",
      "cat2, eat!!\n"
     ]
    }
   ],
   "source": [
    "class Animal:\n",
    "    \n",
    "    def __init__(self, name):\n",
    "        self.name = name\n",
    "    \n",
    "    def call(self):\n",
    "        print(f'{self.name},动物叫')\n",
    "    \n",
    "    __call = call\n",
    "    \n",
    "    def eat(self):\n",
    "        print(f'{self.name}, eat!!')\n",
    "        \n",
    "class Cat(Animal):\n",
    "    \n",
    "    def __init__(self, name, age):\n",
    "        super().__init__(name)\n",
    "        self.age = age\n",
    "    \n",
    "    def call(self):\n",
    "        print(f'小猫{self.name}, {self.age}, 喵喵叫')\n",
    "        \n",
    "a = Animal('cat1')\n",
    "a.call()\n",
    "b = Cat('cat2', 12)\n",
    "b.call()\n",
    "b.eat()\n"
   ]
  },
  {
   "cell_type": "code",
   "execution_count": 27,
   "id": "0c21cd31-d2f7-40e3-8a66-8dbfc15e385c",
   "metadata": {
    "tags": []
   },
   "outputs": [
    {
     "name": "stdout",
     "output_type": "stream",
     "text": [
      "10 9 8 7 6 5 4 3 2 1 0 "
     ]
    }
   ],
   "source": [
    "for i in range (10, -1, -1):\n",
    "    print(i, end=\" \")"
   ]
  },
  {
   "cell_type": "code",
   "execution_count": 28,
   "id": "fd5f6bab-796f-4063-ae09-df48da12ed47",
   "metadata": {
    "tags": []
   },
   "outputs": [
    {
     "data": {
      "text/plain": [
       "generator"
      ]
     },
     "execution_count": 28,
     "metadata": {},
     "output_type": "execute_result"
    }
   ],
   "source": [
    "def reverse(data):\n",
    "    for index in range(0, len(data)):\n",
    "        yield data[index]\n",
    "        \n",
    "type(reverse('hello'))"
   ]
  },
  {
   "cell_type": "code",
   "execution_count": 29,
   "id": "7a579cbd-4389-4790-9f61-a4c562574ab8",
   "metadata": {
    "tags": []
   },
   "outputs": [
    {
     "data": {
      "text/plain": [
       "45"
      ]
     },
     "execution_count": 29,
     "metadata": {},
     "output_type": "execute_result"
    }
   ],
   "source": [
    "sum(i for i in range(0,10))"
   ]
  },
  {
   "cell_type": "code",
   "execution_count": 36,
   "id": "8d012a7c-2e50-43bd-a9e1-dac6f06bc5d7",
   "metadata": {
    "tags": []
   },
   "outputs": [
    {
     "name": "stdin",
     "output_type": "stream",
     "text": [
      " 1\n",
      " 2\n",
      " 3\n"
     ]
    },
    {
     "name": "stdout",
     "output_type": "stream",
     "text": [
      "3\n"
     ]
    }
   ],
   "source": [
    "# arr = []\n",
    "# alen = int(input())\n",
    "# for i in range(0, alen):\n",
    "#     arr.append(input())\n",
    "len = 3\n",
    "arr = [int(input()) for a in range(0, len)]\n",
    "while print(arr.pop()):None"
   ]
  },
  {
   "cell_type": "code",
   "execution_count": 38,
   "id": "c80e17af-28c8-47d9-9274-cd065d355d86",
   "metadata": {},
   "outputs": [],
   "source": [
    "from selenium import webdriver\n",
    "\n",
    "driver = webdriver.Chrome()\n",
    "\n",
    "driver.get(\"http://selenium.dev\")\n",
    "\n",
    "driver.quit()"
   ]
  },
  {
   "cell_type": "code",
   "execution_count": 39,
   "id": "f6b5803e-d202-435b-af36-6546a03c5e63",
   "metadata": {
    "tags": []
   },
   "outputs": [
    {
     "data": {
      "text/plain": [
       "0"
      ]
     },
     "execution_count": 39,
     "metadata": {},
     "output_type": "execute_result"
    }
   ],
   "source": [
    "import os\n",
    "os.getcwd() # 查看当前文档位置\n",
    "os.system('mkdir today') # 在当前目录创建文件夹\n",
    "# dir(os)\n",
    "# help(os)"
   ]
  },
  {
   "cell_type": "code",
   "execution_count": 40,
   "id": "bc9e843f-c0d8-4211-84a6-6af03cb0467c",
   "metadata": {
    "tags": []
   },
   "outputs": [
    {
     "data": {
      "text/plain": [
       "['fibo.py']"
      ]
     },
     "execution_count": 40,
     "metadata": {},
     "output_type": "execute_result"
    }
   ],
   "source": [
    "import glob\n",
    "glob.glob('*.py')"
   ]
  },
  {
   "cell_type": "code",
   "execution_count": 41,
   "id": "bd21abb7-e09a-4b5a-b320-9b6d154ba995",
   "metadata": {
    "tags": []
   },
   "outputs": [
    {
     "name": "stdout",
     "output_type": "stream",
     "text": [
      "['/Library/Frameworks/Python.framework/Versions/3.10/lib/python3.10/site-packages/ipykernel_launcher.py', '-f', '/Users/leeyeung/Library/Jupyter/runtime/kernel-10e95aa8-9e12-4352-8fcc-9f1ee06fda35.json']\n"
     ]
    }
   ],
   "source": [
    "import sys\n",
    "print(sys.argv)"
   ]
  },
  {
   "cell_type": "code",
   "execution_count": 42,
   "id": "ec7b8d48-0706-41ef-9757-0b755024e5e4",
   "metadata": {
    "tags": []
   },
   "outputs": [
    {
     "data": {
      "text/plain": [
       "datetime.date(2024, 4, 10)"
      ]
     },
     "execution_count": 42,
     "metadata": {},
     "output_type": "execute_result"
    }
   ],
   "source": [
    "from datetime import date\n",
    "now = date.today()\n",
    "now"
   ]
  },
  {
   "cell_type": "code",
   "execution_count": 43,
   "id": "85121fb1-6484-4979-b7d9-117b69fd1b04",
   "metadata": {
    "tags": []
   },
   "outputs": [],
   "source": [
    "def average(valuies):\n",
    "    \"\"\"Computes the arithmetic mean of a list of numbers.\n",
    "    \n",
    "    >>>print(average([20, 30, 70]))\n",
    "    40.0\n",
    "    \n",
    "    \"\"\"\n",
    "    return sum(values)/ len(values)\n",
    "\n"
   ]
  },
  {
   "cell_type": "code",
   "execution_count": null,
   "id": "fd20cc94-a7f9-41ee-be78-92f93ffa0de9",
   "metadata": {},
   "outputs": [],
   "source": []
  }
 ],
 "metadata": {
  "kernelspec": {
   "display_name": "Python 3 (ipykernel)",
   "language": "python",
   "name": "python3"
  },
  "language_info": {
   "codemirror_mode": {
    "name": "ipython",
    "version": 3
   },
   "file_extension": ".py",
   "mimetype": "text/x-python",
   "name": "python",
   "nbconvert_exporter": "python",
   "pygments_lexer": "ipython3",
   "version": "3.10.14"
  }
 },
 "nbformat": 4,
 "nbformat_minor": 5
}

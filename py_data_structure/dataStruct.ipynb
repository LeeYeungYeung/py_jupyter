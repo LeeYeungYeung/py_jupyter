{
 "cells": [
  {
   "cell_type": "code",
   "execution_count": 4,
   "id": "524f7d07-65ca-4c4b-b6de-8014eacf8e09",
   "metadata": {},
   "outputs": [
    {
     "name": "stdout",
     "output_type": "stream",
     "text": [
      "hello\n"
     ]
    }
   ],
   "source": [
    "print (\"hello\")"
   ]
  },
  {
   "cell_type": "markdown",
   "id": "c21c912a-02fc-45b1-8e6c-abf570429f8c",
   "metadata": {},
   "source": [
    "### 冒泡排序"
   ]
  },
  {
   "cell_type": "code",
   "execution_count": 8,
   "id": "89b81e41-7a70-42d5-91dd-9411ed9bd493",
   "metadata": {},
   "outputs": [
    {
     "name": "stdout",
     "output_type": "stream",
     "text": [
      "42 [1, 2, 3, 3, 4, 4, 5, 5, 6, 8]\n"
     ]
    }
   ],
   "source": [
    "\n",
    "def bubble_sort(nums: list[int]) -> int:\n",
    "    \"\"\"平方阶 冒泡排序\"\"\"\n",
    "    count = 0 #计数器\n",
    "    # 外层循环\n",
    "    for i in range(len(nums) - 1, 0, -1):\n",
    "        \n",
    "        for j in range(i):\n",
    "            if nums[j] > nums[j+1]:\n",
    "                tmp: int = nums[j]\n",
    "                nums[j] = nums[j+1]\n",
    "                nums[j+1] = tmp\n",
    "                count += 3\n",
    "    return count\n",
    "\n",
    "arr = [1,3,4,5,8,4,3,2,5,6]\n",
    "print(bubble_sort(arr),arr)"
   ]
  },
  {
   "cell_type": "markdown",
   "id": "6b769be9-40a7-40e4-85d8-9a6ba338e616",
   "metadata": {},
   "source": [
    "### 线性对数增长 nlogn"
   ]
  },
  {
   "cell_type": "code",
   "execution_count": 14,
   "id": "0ac796c0-d380-46e4-bd8f-b41e9d40178b",
   "metadata": {},
   "outputs": [
    {
     "data": {
      "text/plain": [
       "36"
      ]
     },
     "execution_count": 14,
     "metadata": {},
     "output_type": "execute_result"
    }
   ],
   "source": [
    "def linear_log_recut(n: int) -> int:\n",
    "    \"\"\"线性对数阶：\"\"\"\n",
    "    \n",
    "    if n<= 1:\n",
    "        return  1\n",
    "    # @//为整除\n",
    "    count: int = linear_log_recut(n//2) + linear_log_recut(n//2)\n",
    "    for _ in range(n):\n",
    "        count += 1\n",
    "    \n",
    "    return count\n",
    "\n",
    "linear_log_recut(10)"
   ]
  },
  {
   "cell_type": "markdown",
   "id": "8f3ab376-f003-4a00-a6e3-c66b9dbc818e",
   "metadata": {},
   "source": [
    "### 数组 array"
   ]
  },
  {
   "cell_type": "code",
   "execution_count": 26,
   "id": "fb516dc7-c4b5-4c84-98d3-dce345202dd3",
   "metadata": {},
   "outputs": [
    {
     "name": "stdout",
     "output_type": "stream",
     "text": [
      "random_access:  3 \n",
      "\n",
      "[1, 3, 2, 10, 5] \n",
      "\n",
      "[1, 3, 2, 5, 5] \n",
      "\n",
      "5 index is: 3\n"
     ]
    }
   ],
   "source": [
    "import random\n",
    "\n",
    "# init array\n",
    "arr: list[int] = [0]*5\n",
    "nums: list[int] = [1,3,2,5,4]\n",
    "\n",
    "# 访问随机元素\n",
    "def random_access(nums: list[int]):\n",
    "    \"\"\"随机访问元素\"\"\"\n",
    "    random_index = random.randint(0,len(nums)-1)\n",
    "    random_num = nums[random_index]\n",
    "    return random_num\n",
    "\n",
    "# insert element\n",
    "def insert(nums: list[int],num: int, index: int):\n",
    "    \"\"\"在数字的索引 index 插入元素 num\"\"\" #不考虑最后一个元素丢失\n",
    "    for i in range(len(nums)-1, index, -1):\n",
    "        nums[i] = nums[i-1]\n",
    "    nums[index] = num\n",
    "\n",
    "#delete element\n",
    "def remove(nums: list[int], index: int):\n",
    "    \"\"\"删除索引 index 处的元素\"\"\"\n",
    "    for i in range(index, len(nums) - 1):\n",
    "        nums[i] = nums[i+1]\n",
    "\n",
    "\n",
    "#display array\n",
    "def traverse(nums: list[int]):\n",
    "    \"\"\"遍历数组\"\"\"\n",
    "    count = 0\n",
    "    #索引求和\n",
    "    for i in range(len(nums)):\n",
    "        count+=nums[i]\n",
    "    #遍历求和    \n",
    "    for num in nums:\n",
    "        count+=num\n",
    "    #枚举求和\n",
    "    for i, num in enumerate(nums):\n",
    "        count += nums[i]\n",
    "        count += num\n",
    "\n",
    "# find element\n",
    "def find(nums: list[int], target: int)-> int:\n",
    "    \"\"\" 查找数字中的元素\"\"\"\n",
    "    for i in range(len(nums)):\n",
    "        if nums[i]==target:\n",
    "            return i\n",
    "    return -1\n",
    "\n",
    "\n",
    "#扩容数组\n",
    "def extend(nums: list[int], enlarge: int) -> list[int]:\n",
    "    res = [0] *(len(nums) + enlarge)\n",
    "    for i in range(len(nums)):\n",
    "        res[i] = nums[i]\n",
    "    return res\n",
    "\n",
    "\n",
    "#test\n",
    "print(\"random_access: \",random_access(nums),'\\n')\n",
    "insert(nums,10,3)\n",
    "print(nums,'\\n')\n",
    "remove(nums, 3)\n",
    "print(nums, '\\n')\n",
    "print(\"5 index is:\",find(nums, 5))\n"
   ]
  },
  {
   "cell_type": "markdown",
   "id": "961ac678-1a67-4f75-8d65-97b2ea0e7193",
   "metadata": {},
   "source": [
    "### 链表\n"
   ]
  },
  {
   "cell_type": "code",
   "execution_count": 13,
   "id": "54469d82-c6c8-40dd-a08f-fc0d57b432d8",
   "metadata": {},
   "outputs": [
    {
     "name": "stdout",
     "output_type": "stream",
     "text": [
      "插入\n",
      "0 10 1 2 3 4 \n",
      "删除\n",
      "0 1 2 3 4 \n",
      "访问节点\n",
      "2\n",
      "find\n",
      "3\n"
     ]
    }
   ],
   "source": [
    "\n",
    "class ListNode:\n",
    "    def __init__(self,val: int):\n",
    "        self.val:int = val\n",
    "        self.next: ListNode | None = None #指向下一个节点的引用\n",
    "\n",
    "# 初始化链表\n",
    "def init(n:int) -> ListNode:\n",
    "    listNode = ListNode(0)\n",
    "    p = listNode\n",
    "    for i in range(n):\n",
    "        p.val = i\n",
    "        p.next = ListNode(0)\n",
    "        p = p.next\n",
    "    return listNode\n",
    "\n",
    "# 插入\n",
    "def insert(n0: ListNode,P: ListNode):\n",
    "    n1 = n0.next\n",
    "    P.next = n1\n",
    "    n0.next = P\n",
    "\n",
    "\n",
    "# remove\n",
    "def remove(n0: ListNode):\n",
    "    \"\"\"删除链表节点 n0 之后的首个节点\"\"\"\n",
    "    if not n0.next:\n",
    "        return\n",
    "    P = n0.next\n",
    "    n1 = P.next\n",
    "    n0.next = n1\n",
    "\n",
    "def display(n0: ListNode):\n",
    "    P = n0\n",
    "    while P.next != None:\n",
    "        print(P.val, end=' ')\n",
    "        P = P.next\n",
    "    print()\n",
    "# 访问节点\n",
    "def access(head: ListNode, i: int):\n",
    "    for _ in range(i):\n",
    "        if not head:\n",
    "            return None\n",
    "        head = head.next\n",
    "    return head\n",
    "\n",
    "def find(head: ListNode, target: int):\n",
    "    index = 0\n",
    "    while head:\n",
    "        if head.val == target:\n",
    "            return index\n",
    "        index += 1\n",
    "        head = head.next\n",
    "        \n",
    "    return -1\n",
    "        \n",
    "a = init(5)\n",
    "node = a\n",
    "insert(a,ListNode(10))\n",
    "print(\"插入\")\n",
    "display(a)\n",
    "\n",
    "print(\"删除\")\n",
    "remove(a)\n",
    "display(a)\n",
    "\n",
    "print(\"访问节点\")\n",
    "he = access(a, 2)\n",
    "print(he.val)\n",
    "\n",
    "print(\"find\")\n",
    "print(find(a, 3))"
   ]
  },
  {
   "cell_type": "code",
   "execution_count": null,
   "id": "aefda2f0-7f55-4093-9e80-47ff24a73079",
   "metadata": {},
   "outputs": [],
   "source": []
  },
  {
   "cell_type": "code",
   "execution_count": null,
   "id": "59d573c9-5fbc-4aeb-939f-f7d50a63550b",
   "metadata": {},
   "outputs": [],
   "source": []
  }
 ],
 "metadata": {
  "kernelspec": {
   "display_name": "Python 3 (ipykernel)",
   "language": "python",
   "name": "python3"
  },
  "language_info": {
   "codemirror_mode": {
    "name": "ipython",
    "version": 3
   },
   "file_extension": ".py",
   "mimetype": "text/x-python",
   "name": "python",
   "nbconvert_exporter": "python",
   "pygments_lexer": "ipython3",
   "version": "3.10.9"
  }
 },
 "nbformat": 4,
 "nbformat_minor": 5
}
